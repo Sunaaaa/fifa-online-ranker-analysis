{
 "cells": [
  {
   "cell_type": "markdown",
   "metadata": {},
   "source": [
    "## TOP 10,000 랭커 유저가 사용한 선수의 20경기\n",
    "\n",
    "TOP 10,000 랭커 유저가 사용한 선수의 20경기 평균 스탯을 조회합니다.\n",
    "선수의 고유 식별자와 포지션의 목록으로 랭커 유저가 사용한 선수의 평균 스탯 기록을 조회할 수 있습니다.\n",
    "한번에 너무 많은 선수목록을 입력할 경우 413 Request Entity Too Large 에러가 반환될 수 있습니다.\n",
    "한번에 호출하는 선수의 수는 50명이 적당합니다.\n",
    "조회하고자 하는 선수 목록을 다음과 같이 구성하여 {players} 파라미터로 전송하면 API를 조회할 수 있습니다 :\n",
    "\n",
    "{players} : \"id\", \"po\"필드를 가지고 있는 Json Object Array\n",
    "- id : 선수 고유 식별자 (spid, /metadata/spid API 참고)\n",
    "- po : 선수 포지션 (spposition, /metadata/spposition API 참고)\n",
    "\n",
    "ex) [{\"id\":101001183,\"po\":7}, {\"id\":214003647,\"po\":25},…]\n",
    "\n",
    "*데이터는 매일 3, 9, 15, 21시에 갱신을 시작하며 최대 한시간까지 소요될 수 있습니다.\n",
    "갱신된 데이터는 갱신시작 시점을 기준으로 3시간 전 데이터까지 반영됩니다.\n",
    "\n",
    "> https://api.nexon.co.kr/fifaonline4/v1.0/rankers/status?matchtype={matchtype}&players={players}"
   ]
  },
  {
   "cell_type": "markdown",
   "metadata": {},
   "source": [
    "## 패키지 설치"
   ]
  },
  {
   "cell_type": "code",
   "execution_count": null,
   "metadata": {},
   "outputs": [],
   "source": [
    "import json\n",
    "import pandas as pd\n",
    "import pickle\n",
    "import requests\n",
    "\n",
    "from pandas import DataFrame\n",
    "from tqdm import tqdm_notebook"
   ]
  },
  {
   "cell_type": "code",
   "execution_count": null,
   "metadata": {},
   "outputs": [],
   "source": [
    "api_key = 'my_api_key'"
   ]
  },
  {
   "cell_type": "markdown",
   "metadata": {},
   "source": [
    "API Key는 넥슨 ID로 로그인한 뒤, [넥슨 개발자센터](https://developers.nexon.com/)를 통해 발급받을 수 있습니다."
   ]
  },
  {
   "cell_type": "markdown",
   "metadata": {},
   "source": [
    "## 매치 종류"
   ]
  },
  {
   "cell_type": "markdown",
   "metadata": {},
   "source": [
    "매치 종류의 메타데이터를 조회합니다."
   ]
  },
  {
   "cell_type": "code",
   "execution_count": null,
   "metadata": {},
   "outputs": [],
   "source": [
    "match_url = requests.get('https://static.api.nexon.co.kr/fifaonline4/latest/matchtype.json')\n",
    "match_parsed_data = match_url.json()\n",
    "match_type = pd.DataFrame(match_parsed_data)"
   ]
  },
  {
   "cell_type": "code",
   "execution_count": null,
   "metadata": {},
   "outputs": [],
   "source": [
    "match_type.head()"
   ]
  },
  {
   "cell_type": "markdown",
   "metadata": {},
   "source": [
    "매치 종류는 공식경기(50)와 감독모드(52)가 있습니다. 플레이어가 선수를 기용하여 플레이하는 스타일을 분석하기 위해 공식경기 결과만 분석에 사용합니다."
   ]
  },
  {
   "cell_type": "markdown",
   "metadata": {},
   "source": [
    "## 선수 고유 식별자"
   ]
  },
  {
   "cell_type": "markdown",
   "metadata": {},
   "source": [
    "선수 고유 식별자의 메타데이터를 조회합니다. 선수 고유 식별자는 시즌아이디(seasonid) 3자리와 선수아이디(pid) 6자리로 구성되어 있습니다."
   ]
  },
  {
   "cell_type": "code",
   "execution_count": null,
   "metadata": {},
   "outputs": [],
   "source": [
    "spId_url = requests.get('https://static.api.nexon.co.kr/fifaonline4/latest/spid.json')\n",
    "spId_parsed_data = spId_url.json()\n",
    "spId = pd.DataFrame(spId_parsed_data)"
   ]
  },
  {
   "cell_type": "code",
   "execution_count": null,
   "metadata": {},
   "outputs": [],
   "source": [
    "spId.head()"
   ]
  },
  {
   "cell_type": "markdown",
   "metadata": {},
   "source": [
    "## 선수 포지션"
   ]
  },
  {
   "cell_type": "markdown",
   "metadata": {},
   "source": [
    "선수 포지션의 메타데이터를 조회합니다."
   ]
  },
  {
   "cell_type": "code",
   "execution_count": null,
   "metadata": {},
   "outputs": [],
   "source": [
    "spposition_url = requests.get('https://static.api.nexon.co.kr/fifaonline4/latest/spposition.json')\n",
    "spposition_parsed_data = spposition_url.json()\n",
    "spposition = pd.DataFrame(spposition_parsed_data)"
   ]
  },
  {
   "cell_type": "code",
   "execution_count": null,
   "metadata": {},
   "outputs": [],
   "source": [
    "spposition"
   ]
  },
  {
   "cell_type": "markdown",
   "metadata": {},
   "source": [
    "## 조회할 선수 목록 만들기"
   ]
  },
  {
   "cell_type": "markdown",
   "metadata": {},
   "source": [
    "```{players}``` 파라미터로 전송할 선수의 목록을 Json Object Array로 만듭니다. 파이썬 환경에서 구현하기 위해 리스트가 딕셔너리 형태의 데이터를 가질 수 있도록 합니다."
   ]
  },
  {
   "cell_type": "code",
   "execution_count": null,
   "metadata": {},
   "outputs": [],
   "source": [
    "position = list(spposition['spposition'])\n",
    "player = list(spId['id'])\n",
    "\n",
    "list_with_dic = [{\"id\": x, \"po\":y} for x in player for y in position]\n",
    "list_with_dic[0:28+1]"
   ]
  },
  {
   "cell_type": "markdown",
   "metadata": {},
   "source": [
    "한 선수 당 플레이 가능한 포지션은 ```0```(GK, 골키퍼)부터 ```28```(SUB, 후보선수)까지 있습니다. 후보 선수를 제외한 총 28개의 포지션을 분석합니다"
   ]
  },
  {
   "cell_type": "markdown",
   "metadata": {},
   "source": [
    "## API 호출하기"
   ]
  },
  {
   "cell_type": "code",
   "execution_count": null,
   "metadata": {},
   "outputs": [],
   "source": [
    "headers = {'Authorization' : api_key}\n",
    "ranker = pd.DataFrame(columns=['createDate', 'spId', 'spPosition', 'status'])\n",
    "\n",
    "term = 28*6 # number of data to request at once\n",
    "\n",
    "try :\n",
    "    for i in tqdm_notebook(range(0, len(list_with_dic), term)):\n",
    "        r = requests.get(\"https://api.nexon.co.kr/fifaonline4/v1.0/rankers/status?matchtype=50&players=\"+str(list_with_dic[i:i+term]), headers = headers)\n",
    "        # print(\"term: {}, get: {}\".format(term, len(pd.DataFrame(r.json()))))\n",
    "        if r.status_code == 404 :# Not found\n",
    "            continue\n",
    "        ranker = ranker.append(pd.DataFrame(r.json()))\n",
    "\n",
    "except Exception as e :\n",
    "    print(\"Error message: \", e)\n",
    "    \n",
    "\n",
    "ranker.reset_index(inplace = True) # Reset row num"
   ]
  },
  {
   "cell_type": "markdown",
   "metadata": {},
   "source": [
    "```term```은 한번에 호출할 데이터의 개수를 의미합니다. 포지션 28개가 한 묶음으로, ```*```를 사용하여 호출할 선수의 수를 지정합니다. 예를 들어 ```term=28*3```이라면 ```[선수 A의 포지션 28개, 선수 B의 포지션 28개]```를 한번에 호출합니다.\n",
    "\n",
    "배수가 높을수록 한번에 많은 데이터를 호출할 수 있지만, 한번에 8명 이상의 선수 조합을 호출하면 413 Request Entity Too Large 오류가 발생합니다."
   ]
  },
  {
   "cell_type": "markdown",
   "metadata": {},
   "source": [
    "## 데이터 가공하기"
   ]
  },
  {
   "cell_type": "code",
   "execution_count": null,
   "metadata": {},
   "outputs": [],
   "source": [
    "ranker.head()"
   ]
  },
  {
   "cell_type": "markdown",
   "metadata": {},
   "source": [
    "```status``` 열이 dictionary로 되어 있습니다. 열 자체를 dictionary로 변환하고 전치해서 데이터프레임에 합칩니다."
   ]
  },
  {
   "cell_type": "code",
   "execution_count": null,
   "metadata": {},
   "outputs": [],
   "source": [
    "rankerNew = ranker.join(pd.DataFrame(ranker[\"status\"].to_dict()).T)\n",
    "rankerNew.drop(['index', 'status'], axis=1, inplace = True)"
   ]
  },
  {
   "cell_type": "code",
   "execution_count": null,
   "metadata": {
    "scrolled": true
   },
   "outputs": [],
   "source": [
    "rankerNew.head()"
   ]
  },
  {
   "cell_type": "markdown",
   "metadata": {},
   "source": [
    "평균 패스 성공률을 나타내는 ```passRate```를 만듭니다."
   ]
  },
  {
   "cell_type": "code",
   "execution_count": null,
   "metadata": {},
   "outputs": [],
   "source": [
    "rankerNew['passRate'] = rankerNew['passSuccess']/rankerNew['passTry']"
   ]
  },
  {
   "cell_type": "code",
   "execution_count": null,
   "metadata": {
    "scrolled": true
   },
   "outputs": [],
   "source": [
    "rankerNew.head()"
   ]
  },
  {
   "cell_type": "markdown",
   "metadata": {},
   "source": [
    "분석에 사용하지 않을 변수들을 미리 제거합니다."
   ]
  },
  {
   "cell_type": "code",
   "execution_count": null,
   "metadata": {},
   "outputs": [],
   "source": [
    "del rankerNew['createDate']\n",
    "del rankerNew['shoot']\n",
    "del rankerNew['passSuccess']\n",
    "del rankerNew['passTry']"
   ]
  },
  {
   "cell_type": "markdown",
   "metadata": {},
   "source": [
    "메모리 사용량 최적화를 위해 특정 컬럼의 type를 지정해 줍니다."
   ]
  },
  {
   "cell_type": "code",
   "execution_count": null,
   "metadata": {},
   "outputs": [],
   "source": [
    "type_dic = {\n",
    "    'spId': 'int32',\n",
    "    'spPosition': 'int32',\n",
    "    'matchCount': 'int32'\n",
    "}\n",
    "rankerNew = rankerNew.astype(type_dic)\n",
    "\n",
    "rankerNew.info()"
   ]
  },
  {
   "cell_type": "code",
   "execution_count": null,
   "metadata": {
    "scrolled": true
   },
   "outputs": [],
   "source": [
    "rankerNew.head()"
   ]
  },
  {
   "cell_type": "markdown",
   "metadata": {},
   "source": [
    "## 저장"
   ]
  },
  {
   "cell_type": "code",
   "execution_count": null,
   "metadata": {},
   "outputs": [],
   "source": [
    "# save\n",
    "with open('data.pickle', 'wb') as f:\n",
    "    pickle.dump(rankerNew, f, pickle.HIGHEST_PROTOCOL)\n",
    "\n",
    "# load\n",
    "with open('data.pickle', 'rb') as f:\n",
    "    data = pickle.load(f)"
   ]
  },
  {
   "cell_type": "markdown",
   "metadata": {},
   "source": [
    "데이터의 크기와 메모리 사용량을 줄이기 위해 ```pickle``` 포맷으로 저장합니다."
   ]
  },
  {
   "cell_type": "markdown",
   "metadata": {},
   "source": [
    "### reference\n",
    "- http://hleecaster.com/python-how-to-split-a-list-into-chunks/\n",
    "- https://programmers.co.kr/learn/courses/4008/lessons/12738     \n",
    "- https://specialmylife.tistory.com/entry/pandas-DataFrame-%EC%82%AC%EC%9A%A9%EB%B2%95-%EC%A0%95%EB%A6%AC%EC%9E%91%EC%97%85%EC%A4%91\n",
    "- https://www.youtube.com/watch?v=0Vm9Yi_ig58&t=873s"
   ]
  },
  {
   "cell_type": "markdown",
   "metadata": {},
   "source": [
    "### source\n",
    "https://developers.nexon.com/fifaonline4"
   ]
  }
 ],
 "metadata": {
  "kernelspec": {
   "display_name": "Python 3",
   "language": "python",
   "name": "python3"
  },
  "language_info": {
   "codemirror_mode": {
    "name": "ipython",
    "version": 3
   },
   "file_extension": ".py",
   "mimetype": "text/x-python",
   "name": "python",
   "nbconvert_exporter": "python",
   "pygments_lexer": "ipython3",
   "version": "3.7.3"
  }
 },
 "nbformat": 4,
 "nbformat_minor": 2
}
