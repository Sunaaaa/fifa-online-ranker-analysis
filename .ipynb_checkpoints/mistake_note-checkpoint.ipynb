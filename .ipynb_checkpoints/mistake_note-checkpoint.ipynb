{
 "cells": [
  {
   "cell_type": "code",
   "execution_count": 2,
   "metadata": {},
   "outputs": [],
   "source": [
    "import json\n",
    "import requests\n",
    "import pandas as pd\n",
    "import numpy as np\n",
    "\n",
    "from tqdm import tqdm_notebook\n",
    "from pandas import DataFrame"
   ]
  },
  {
   "cell_type": "markdown",
   "metadata": {},
   "source": [
    "### 선수당 가능한 포지션의 수 알고리즘"
   ]
  },
  {
   "cell_type": "markdown",
   "metadata": {},
   "source": [
    "기준을 <b>선수</b>로 하여, 선수 1명당 가질 수 있는 포지션의 경우를 모두 계산해 데이터프레임으로 저장한다. "
   ]
  },
  {
   "cell_type": "markdown",
   "metadata": {},
   "source": [
    "#### 방법 1"
   ]
  },
  {
   "cell_type": "code",
   "execution_count": 5,
   "metadata": {
    "scrolled": true
   },
   "outputs": [
    {
     "data": {
      "text/html": [
       "<div>\n",
       "<style scoped>\n",
       "    .dataframe tbody tr th:only-of-type {\n",
       "        vertical-align: middle;\n",
       "    }\n",
       "\n",
       "    .dataframe tbody tr th {\n",
       "        vertical-align: top;\n",
       "    }\n",
       "\n",
       "    .dataframe thead th {\n",
       "        text-align: right;\n",
       "    }\n",
       "</style>\n",
       "<table border=\"1\" class=\"dataframe\">\n",
       "  <thead>\n",
       "    <tr style=\"text-align: right;\">\n",
       "      <th></th>\n",
       "      <th>선수id</th>\n",
       "      <th>포지션</th>\n",
       "    </tr>\n",
       "  </thead>\n",
       "  <tbody>\n",
       "    <tr>\n",
       "      <th>0</th>\n",
       "      <td>a</td>\n",
       "      <td>1</td>\n",
       "    </tr>\n",
       "    <tr>\n",
       "      <th>1</th>\n",
       "      <td>a</td>\n",
       "      <td>2</td>\n",
       "    </tr>\n",
       "    <tr>\n",
       "      <th>2</th>\n",
       "      <td>a</td>\n",
       "      <td>3</td>\n",
       "    </tr>\n",
       "    <tr>\n",
       "      <th>3</th>\n",
       "      <td>b</td>\n",
       "      <td>1</td>\n",
       "    </tr>\n",
       "    <tr>\n",
       "      <th>4</th>\n",
       "      <td>b</td>\n",
       "      <td>2</td>\n",
       "    </tr>\n",
       "    <tr>\n",
       "      <th>5</th>\n",
       "      <td>b</td>\n",
       "      <td>3</td>\n",
       "    </tr>\n",
       "    <tr>\n",
       "      <th>6</th>\n",
       "      <td>c</td>\n",
       "      <td>1</td>\n",
       "    </tr>\n",
       "    <tr>\n",
       "      <th>7</th>\n",
       "      <td>c</td>\n",
       "      <td>2</td>\n",
       "    </tr>\n",
       "    <tr>\n",
       "      <th>8</th>\n",
       "      <td>c</td>\n",
       "      <td>3</td>\n",
       "    </tr>\n",
       "    <tr>\n",
       "      <th>9</th>\n",
       "      <td>d</td>\n",
       "      <td>1</td>\n",
       "    </tr>\n",
       "    <tr>\n",
       "      <th>10</th>\n",
       "      <td>d</td>\n",
       "      <td>2</td>\n",
       "    </tr>\n",
       "    <tr>\n",
       "      <th>11</th>\n",
       "      <td>d</td>\n",
       "      <td>3</td>\n",
       "    </tr>\n",
       "    <tr>\n",
       "      <th>12</th>\n",
       "      <td>e</td>\n",
       "      <td>1</td>\n",
       "    </tr>\n",
       "    <tr>\n",
       "      <th>13</th>\n",
       "      <td>e</td>\n",
       "      <td>2</td>\n",
       "    </tr>\n",
       "    <tr>\n",
       "      <th>14</th>\n",
       "      <td>e</td>\n",
       "      <td>3</td>\n",
       "    </tr>\n",
       "  </tbody>\n",
       "</table>\n",
       "</div>"
      ],
      "text/plain": [
       "   선수id 포지션\n",
       "0     a   1\n",
       "1     a   2\n",
       "2     a   3\n",
       "3     b   1\n",
       "4     b   2\n",
       "5     b   3\n",
       "6     c   1\n",
       "7     c   2\n",
       "8     c   3\n",
       "9     d   1\n",
       "10    d   2\n",
       "11    d   3\n",
       "12    e   1\n",
       "13    e   2\n",
       "14    e   3"
      ]
     },
     "execution_count": 5,
     "metadata": {},
     "output_type": "execute_result"
    }
   ],
   "source": [
    "a = ['a', 'b', 'c', 'd', 'e']\n",
    "b = [1,2,3]\n",
    "\n",
    "df = pd.DataFrame(columns = ['선수id', '포지션'])\n",
    "for i in a :\n",
    "    for j in b :\n",
    "        df = df.append(pd.DataFrame([[i, j]], columns = ['선수id', '포지션']))\n",
    "\n",
    "        \n",
    "df.reset_index(inplace=True)\n",
    "df.drop(['index'], axis = 1, inplace = True)\n",
    "\n",
    "df"
   ]
  },
  {
   "cell_type": "markdown",
   "metadata": {},
   "source": [
    "일반화해서 모든 선수들이 가질 수 있는 포지션의 경우의 수를 모두 데이터 프레임에 추가하려고 했는데, 실행 시간이 너무 오래 걸린다."
   ]
  },
  {
   "cell_type": "markdown",
   "metadata": {},
   "source": [
    "#### 방법 2"
   ]
  },
  {
   "cell_type": "markdown",
   "metadata": {},
   "source": [
    "선수들의 수를 10명씩 나누어서 데이터 프레임을 만든다."
   ]
  },
  {
   "cell_type": "code",
   "execution_count": 93,
   "metadata": {},
   "outputs": [],
   "source": [
    "def divide_list(l, n):\n",
    "    for i in range(0, len(l), n) :\n",
    "        yield l[i:i+n]\n",
    "\n",
    "n = 10\n",
    "\n",
    "spid_list = list(divide_list(spid['id'], n))"
   ]
  },
  {
   "cell_type": "code",
   "execution_count": 94,
   "metadata": {
    "scrolled": true
   },
   "outputs": [
    {
     "data": {
      "text/plain": [
       "3410"
      ]
     },
     "execution_count": 94,
     "metadata": {},
     "output_type": "execute_result"
    }
   ],
   "source": [
    "len(spid_list)"
   ]
  },
  {
   "cell_type": "code",
   "execution_count": 91,
   "metadata": {},
   "outputs": [],
   "source": [
    "def df_maker(l) :\n",
    "    df = pd.DataFrame(columns = ['id', 'po'])\n",
    "    for i in spid_list[l] :\n",
    "        for j in spposition['spposition'] :\n",
    "            df = df.append(pd.DataFrame([[i, j]], columns = ['id', 'po']))"
   ]
  },
  {
   "cell_type": "markdown",
   "metadata": {},
   "source": [
    "결국 실행해야 하는 반복문의 수가 너무 많다!"
   ]
  },
  {
   "cell_type": "markdown",
   "metadata": {},
   "source": [
    "#### 해결법"
   ]
  },
  {
   "cell_type": "code",
   "execution_count": 10,
   "metadata": {
    "scrolled": true
   },
   "outputs": [],
   "source": [
    "position = list(spposition['spposition'])\n",
    "player = list(spid['id'])\n",
    "\n",
    "list_with_tuple = [(x,y) for x in position for y in player]"
   ]
  },
  {
   "cell_type": "code",
   "execution_count": 11,
   "metadata": {},
   "outputs": [],
   "source": [
    "list_with_dic = [{\"id\": x, \"po\":y} for x in player for y in position]"
   ]
  },
  {
   "cell_type": "markdown",
   "metadata": {},
   "source": [
    "### API 조회 알고리즘"
   ]
  },
  {
   "cell_type": "markdown",
   "metadata": {},
   "source": [
    "#### 방법 1"
   ]
  },
  {
   "cell_type": "markdown",
   "metadata": {},
   "source": [
    "빈 데이터프레임을 만든 다음 json 값을 채워넣는다. 한번에 너무 많은 목록을 입력할 때 생기는 오류를 방지하기 위해 ```list_with_dic[i:28+i]``` 선수 1명씩 호출한다. ```list_with_dic```에는 선수 1명과 가능한 29개의 포지션이 선수 ```id``` 순서대로 저장되어 있다."
   ]
  },
  {
   "cell_type": "code",
   "execution_count": null,
   "metadata": {},
   "outputs": [],
   "source": [
    "headers = {'Authorization' : api_key}\n",
    "ranker = pd.DataFrame(columns=['createDate', 'spId', 'spPosition', 'status'])\n",
    "\n",
    "\n",
    "for i in range(int(math.ceil(len(list_with_dic)/29))) :\n",
    "    r = requests.get(\"https://api.nexon.co.kr/fifaonline4/v1.0/rankers/status?matchtype=50&players=\"+str(list_with_dic[i:28+i]), headers = headers)\n",
    "    ranker = pd.DataFrame(r.json())"
   ]
  },
  {
   "cell_type": "markdown",
   "metadata": {},
   "source": [
    "결과는 나오지만 실행 시간이 너무 오래 걸리고, 비효율적이다."
   ]
  },
  {
   "cell_type": "markdown",
   "metadata": {},
   "source": [
    "#### 방법 2"
   ]
  },
  {
   "cell_type": "markdown",
   "metadata": {},
   "source": [
    "데이터를 데이터프레임 형태 말고 csv 파일 형태로 저장해 보자."
   ]
  },
  {
   "cell_type": "code",
   "execution_count": null,
   "metadata": {},
   "outputs": [],
   "source": [
    "open('ranker_output.csv', 'w', newline ='')\n",
    "f = open('ranker_output.csv', 'a', newline = '')\n",
    "writer = csv.writer(f)\n",
    "\n",
    "headers = {'Authorization' : api_key}\n",
    "try :\n",
    "    for i in range(int(math.ceil(len(list_with_dic)/29))) :\n",
    "        r = requests.get(\"https://api.nexon.co.kr/fifaonline4/v1.0/rankers/status?matchtype=50&players=\"+str(list_with_dic[i:29+i]), headers = headers)\n",
    "        writer.writerow(r)\n",
    "    f.close()\n",
    "    \n",
    "except :\n",
    "    print(\"ERROR\")"
   ]
  },
  {
   "cell_type": "markdown",
   "metadata": {},
   "source": [
    "그래도 실행 시간이 너무 길다. csv 파일의 문제가 아닌 걸까."
   ]
  },
  {
   "cell_type": "markdown",
   "metadata": {},
   "source": [
    "#### 방법 3"
   ]
  },
  {
   "cell_type": "code",
   "execution_count": null,
   "metadata": {},
   "outputs": [],
   "source": [
    "headers = {'Authorization' : api_key}\n",
    "ranker = pd.DataFrame(columns=['createDate', 'spId', 'spPosition', 'status'])\n",
    "\n",
    "term = 29*6\n",
    "\n",
    "try :\n",
    "    for i in tqdm_notebook(range(1, len(list_with_dic), term)):\n",
    "        r = requests.get(\"https://api.nexon.co.kr/fifaonline4/v1.0/rankers/status?matchtype=50&players=\"+str(list_with_dic[i:i+term]), headers = headers)\n",
    "        #print(\"term: {}, get: {}\".format(term, len(pd.DataFrame(r.json()))))\n",
    "        ranker = ranker.append(pd.DataFrame(r.json()))\n",
    "\n",
    "except Exception as e :\n",
    "    print(\"Error message: \", e)\n",
    "    \n",
    "\n",
    "ranker.reset_index( inplace = True )"
   ]
  },
  {
   "cell_type": "markdown",
   "metadata": {
    "scrolled": false
   },
   "source": [
    "반복문의 횟수 자체를 줄였다. 그런데 9~10%까지 진행하다 ```r.status_code```에 404 에러 메시지가 떴다. 랭커 유저들이 사용하지 않는 선수의 경우 데이터가 존재하지 않아 에러가 발생한다. \n",
    "\n",
    "따라서 404 메시지가 떴을 때를 대비해 ```continue```로 적절히 흐름제어를 해야 한다."
   ]
  },
  {
   "cell_type": "markdown",
   "metadata": {},
   "source": [
    "http://hleecaster.com/python-how-to-split-a-list-into-chunks/    \n",
    "https://programmers.co.kr/learn/courses/4008/lessons/12738     \n",
    "https://specialmylife.tistory.com/entry/pandas-DataFrame-%EC%82%AC%EC%9A%A9%EB%B2%95-%EC%A0%95%EB%A6%AC%EC%9E%91%EC%97%85%EC%A4%91     \n",
    "https://da-nika.tistory.com/14    \n",
    "https://devpouch.tistory.com/55    "
   ]
  }
 ],
 "metadata": {
  "kernelspec": {
   "display_name": "Python 3",
   "language": "python",
   "name": "python3"
  },
  "language_info": {
   "codemirror_mode": {
    "name": "ipython",
    "version": 3
   },
   "file_extension": ".py",
   "mimetype": "text/x-python",
   "name": "python",
   "nbconvert_exporter": "python",
   "pygments_lexer": "ipython3",
   "version": "3.7.3"
  }
 },
 "nbformat": 4,
 "nbformat_minor": 2
}
